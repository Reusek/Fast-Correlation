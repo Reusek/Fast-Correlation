{
 "cells": [
  {
   "cell_type": "markdown",
   "id": "0cdfb5a9-f4ef-4527-8156-7d146e54607d",
   "metadata": {},
   "source": [
    "# Kovariance"
   ]
  },
  {
   "cell_type": "markdown",
   "id": "9dc75c96-b080-4142-9bbf-fc544037cd90",
   "metadata": {
    "tags": []
   },
   "source": [
    "## Vzorec Pearsonova korelačního koeficientu\n",
    "\n",
    "Průměrná hodnota vektoru:\n",
    "\n",
    "$$\n",
    "E(X) = \\frac{\\sum_{i=1}^{n} x_i}{n}\n",
    "$$\n",
    "\n",
    "$$\n",
    "\\rho_{X,Y}=\\frac{cov(X,Y)}{\\sigma_X\\sigma_Y}\n",
    "$$\n",
    "\n",
    "Kovarianci převedeme na:\n",
    "\n",
    "$$\n",
    "\\rho_{X,Y} = \\frac{E((X-\\mu_X)(Y-\\mu_Y))}{\\sigma_X\\sigma_Y}\n",
    "$$\n",
    "\n",
    "Protože $\\mu_X=E(X)$ tak:\n",
    "\n",
    "$$\n",
    "\\sigma^2_X = E(X^2) - E^2(X)\n",
    "$$\n",
    "\n",
    "Po úpravě:\n",
    "\n",
    "$$\n",
    "\\rho_{X,Y} = \\frac{E(XY)-E(X)E(Y)}{\\sqrt{E(X^2) - E^2(X)} \\sqrt{E(Y^2)-E^2(Y)}}\n",
    "$$"
   ]
  },
  {
   "cell_type": "code",
   "execution_count": 1,
   "id": "5e73dedd-a055-4073-b13e-c992e6477903",
   "metadata": {},
   "outputs": [],
   "source": [
    "def E(a):\n",
    "    s = 0\n",
    "    for i in a:\n",
    "        s += i\n",
    "    return s / len(a)\n",
    "assert E([1, 2]) == 1.5"
   ]
  },
  {
   "cell_type": "code",
   "execution_count": 2,
   "id": "596fffb1-61ff-427a-9678-03a9ba480d03",
   "metadata": {},
   "outputs": [
    {
     "ename": "AssertionError",
     "evalue": "",
     "output_type": "error",
     "traceback": [
      "\u001b[0;31m---------------------------------------------------------------------------\u001b[0m",
      "\u001b[0;31mAssertionError\u001b[0m                            Traceback (most recent call last)",
      "\u001b[0;32m/tmp/ipykernel_50403/2034943777.py\u001b[0m in \u001b[0;36m<module>\u001b[0;34m\u001b[0m\n\u001b[1;32m      6\u001b[0m     \u001b[0;32mreturn\u001b[0m \u001b[0mr\u001b[0m\u001b[0;34m\u001b[0m\u001b[0;34m\u001b[0m\u001b[0m\n\u001b[1;32m      7\u001b[0m \u001b[0;34m\u001b[0m\u001b[0m\n\u001b[0;32m----> 8\u001b[0;31m \u001b[0;32massert\u001b[0m \u001b[0mmul\u001b[0m\u001b[0;34m(\u001b[0m\u001b[0;34m[\u001b[0m\u001b[0;36m2\u001b[0m\u001b[0;34m,\u001b[0m\u001b[0;36m2\u001b[0m\u001b[0;34m]\u001b[0m\u001b[0;34m,\u001b[0m \u001b[0;34m[\u001b[0m\u001b[0;36m2\u001b[0m\u001b[0;34m,\u001b[0m\u001b[0;36m3\u001b[0m\u001b[0;34m]\u001b[0m\u001b[0;34m)\u001b[0m \u001b[0;34m==\u001b[0m \u001b[0;34m[\u001b[0m\u001b[0;36m4\u001b[0m\u001b[0;34m,\u001b[0m\u001b[0;34m]\u001b[0m\u001b[0;34m\u001b[0m\u001b[0;34m\u001b[0m\u001b[0m\n\u001b[0m",
      "\u001b[0;31mAssertionError\u001b[0m: "
     ]
    }
   ],
   "source": [
    "def mul(a, b):\n",
    "    assert len(a) == len(b)\n",
    "    r = []\n",
    "    for i in range(len(a)):\n",
    "        r.append(a[i] * b[i])\n",
    "    return r\n",
    "    \n",
    "assert mul([2,2], [2,3]) == [4,1]"
   ]
  },
  {
   "cell_type": "code",
   "execution_count": null,
   "id": "0df697f6-8685-49df-9ee0-3416f9cde0fd",
   "metadata": {},
   "outputs": [],
   "source": [
    "def reduce(a, b):\n",
    "    assert len(a) == len(b)\n",
    "    r = []\n",
    "    for i in range(len(a)):\n",
    "        r.append(a[i] - b[i])\n",
    "    return r\n",
    "assert reduce([1,2], [1,1]) == [0,1]\n",
    "    "
   ]
  },
  {
   "cell_type": "code",
   "execution_count": null,
   "id": "22d7a098-bd89-4e26-b47c-fe83a1736549",
   "metadata": {},
   "outputs": [],
   "source": [
    "def cov(a, b):\n",
    "    return E(mul(a,b)) - (E(a) * E(b))"
   ]
  },
  {
   "cell_type": "code",
   "execution_count": null,
   "id": "155a6eb1-2f19-41a4-bbad-a9171a83dbec",
   "metadata": {},
   "outputs": [],
   "source": [
    "cov([1, 2, 4], [1, 2, 4])"
   ]
  },
  {
   "cell_type": "code",
   "execution_count": null,
   "id": "b98f3e67-0b5a-496c-bfcf-29880c82f0a7",
   "metadata": {},
   "outputs": [],
   "source": []
  }
 ],
 "metadata": {
  "kernelspec": {
   "display_name": "Python 3 (ipykernel)",
   "language": "python",
   "name": "python3"
  },
  "language_info": {
   "codemirror_mode": {
    "name": "ipython",
    "version": 3
   },
   "file_extension": ".py",
   "mimetype": "text/x-python",
   "name": "python",
   "nbconvert_exporter": "python",
   "pygments_lexer": "ipython3",
   "version": "3.9.6"
  }
 },
 "nbformat": 4,
 "nbformat_minor": 5
}
