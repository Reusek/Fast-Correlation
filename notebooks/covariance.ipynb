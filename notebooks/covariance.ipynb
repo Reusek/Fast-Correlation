{
 "cells": [
  {
   "cell_type": "markdown",
   "id": "8497193b-8bb6-4f2e-abed-3eed4f5814a6",
   "metadata": {},
   "source": [
    "# Kovariance"
   ]
  },
  {
   "cell_type": "markdown",
   "id": "680624aa-30b5-4502-a082-7be598856e30",
   "metadata": {},
   "source": [
    "https://cs.wikipedia.org/wiki/Kovariance"
   ]
  },
  {
   "cell_type": "code",
   "execution_count": 1,
   "id": "16258924-7ea5-4ad8-b509-e0571be3e408",
   "metadata": {},
   "outputs": [],
   "source": [
    "import numpy as np\n",
    "import matplotlib.pyplot as plt"
   ]
  },
  {
   "cell_type": "markdown",
   "id": "e47b1ef3-a578-423c-8c69-a27cea52772c",
   "metadata": {},
   "source": [
    "## Testovací signály"
   ]
  },
  {
   "cell_type": "markdown",
   "id": "37d2182d-dbae-4a68-9230-6cb6ea4b75b6",
   "metadata": {},
   "source": [
    "Výpočet používá následující proměnné: $f_s$ vzorkovací frekvence, $f$ frekvence signálu, $t$ trvání signálu."
   ]
  },
  {
   "cell_type": "code",
   "execution_count": 2,
   "id": "a64a2394-cbd1-4272-9461-e4df6e4b46eb",
   "metadata": {},
   "outputs": [],
   "source": [
    "fs = 1000  # Hz\n",
    "\n",
    "f = 4  # Hz\n",
    "t = 1  # s\n",
    "\n",
    "time = np.arange(t * fs) / fs\n",
    "signal_sin = np.sin(2 * np.pi * f * time)\n",
    "signal_cos = np.cos(2 * np.pi * f * time)"
   ]
  },
  {
   "cell_type": "markdown",
   "id": "6d85d9dd-8b9a-415b-9ef2-6ec6af990cf7",
   "metadata": {},
   "source": [
    "## Grafy"
   ]
  },
  {
   "cell_type": "markdown",
   "id": "7cae4cb3-c65f-4a9e-b43d-6aa5cafd2d2b",
   "metadata": {},
   "source": [
    "Signál ve tvaru sinusovky:"
   ]
  },
  {
   "cell_type": "code",
   "execution_count": 3,
   "id": "eb6d67ba-ea63-442d-b186-414e85301f8d",
   "metadata": {},
   "outputs": [
    {
     "data": {
      "text/plain": [
       "<matplotlib.collections.PathCollection at 0x7f670593cd60>"
      ]
     },
     "execution_count": 3,
     "metadata": {},
     "output_type": "execute_result"
    },
    {
     "data": {
      "image/png": "[encoded data removed]",
      "text/plain": [
       "<Figure size 432x288 with 1 Axes>"
      ]
     },
     "metadata": {
      "needs_background": "light"
     },
     "output_type": "display_data"
    }
   ],
   "source": [
    "plt.scatter(time, signal_sin)"
   ]
  },
  {
   "cell_type": "markdown",
   "id": "e76c9ff0-03e3-4f08-bb99-9d0fb2f87e8a",
   "metadata": {},
   "source": [
    "Signál ve tvaru kosinusovky:"
   ]
  },
  {
   "cell_type": "code",
   "execution_count": 4,
   "id": "88548955-b169-43bd-8f49-43da41e2b218",
   "metadata": {},
   "outputs": [
    {
     "data": {
      "text/plain": [
       "<matplotlib.collections.PathCollection at 0x7f67037de6d0>"
      ]
     },
     "execution_count": 4,
     "metadata": {},
     "output_type": "execute_result"
    },
    {
     "data": {
      "image/png": "[encoded data removed]",
      "text/plain": [
       "<Figure size 432x288 with 1 Axes>"
      ]
     },
     "metadata": {
      "needs_background": "light"
     },
     "output_type": "display_data"
    }
   ],
   "source": [
    "plt.scatter(time, signal_cos)"
   ]
  },
  {
   "cell_type": "markdown",
   "id": "02e0a938-d705-468d-a093-39198650eda6",
   "metadata": {},
   "source": [
    "## Výpočet"
   ]
  },
  {
   "cell_type": "markdown",
   "id": "10487a09-4861-42dd-9a2a-c21c686cf3c6",
   "metadata": {},
   "source": [
    "Funkce pro výpočet kovariance:"
   ]
  },
  {
   "cell_type": "code",
   "execution_count": 5,
   "id": "62658d4d-a2a2-463b-8341-03712ff9a726",
   "metadata": {},
   "outputs": [],
   "source": [
    "def covariance(a, b):\n",
    "    # https://cs.wikipedia.org/wiki/Kovariance\n",
    "    assert len(a) == len(b)\n",
    "    return np.mean((a - np.mean(a)) * (b - np.mean(b)))"
   ]
  },
  {
   "cell_type": "markdown",
   "id": "ec3c5d6c-f5f7-4c69-a018-bf27a03ee24d",
   "metadata": {},
   "source": [
    "## Kovariance signálu se sebou samým"
   ]
  },
  {
   "cell_type": "markdown",
   "id": "7b9241c8-a3ce-4f85-ac79-27f564bc2bb4",
   "metadata": {},
   "source": [
    "Kovariance jak `signal_sin` tak `signal_cos` se sebou samým dává $1\\over 2$."
   ]
  },
  {
   "cell_type": "code",
   "execution_count": 6,
   "id": "c1d37898-cfcc-466c-b357-83928ad21103",
   "metadata": {},
   "outputs": [
    {
     "data": {
      "text/plain": [
       "0.5000000000000002"
      ]
     },
     "execution_count": 6,
     "metadata": {},
     "output_type": "execute_result"
    }
   ],
   "source": [
    "covariance(signal_sin, signal_sin)"
   ]
  },
  {
   "cell_type": "code",
   "execution_count": 7,
   "id": "d86a73dd-35b4-4c41-8bc2-b95ac3e3b281",
   "metadata": {},
   "outputs": [
    {
     "data": {
      "text/plain": [
       "0.4999999999999998"
      ]
     },
     "execution_count": 7,
     "metadata": {},
     "output_type": "execute_result"
    }
   ],
   "source": [
    "covariance(signal_cos, signal_cos)"
   ]
  },
  {
   "cell_type": "markdown",
   "id": "23192dee-ca2b-4786-bb60-32e58b785c46",
   "metadata": {},
   "source": [
    "## Kovariance ortogonálních signálů"
   ]
  },
  {
   "cell_type": "markdown",
   "id": "5de56177-0c1c-40ac-a474-56f95f5ac8f4",
   "metadata": {},
   "source": [
    "Kovariance `signal_sin` se `signal_cos` dává nulu."
   ]
  },
  {
   "cell_type": "code",
   "execution_count": 8,
   "id": "69c332be-3e1d-40d6-b1b0-9395e0f99877",
   "metadata": {},
   "outputs": [
    {
     "data": {
      "text/plain": [
       "1.609823385706477e-18"
      ]
     },
     "execution_count": 8,
     "metadata": {},
     "output_type": "execute_result"
    }
   ],
   "source": [
    "covariance(signal_sin, signal_cos)"
   ]
  },
  {
   "cell_type": "markdown",
   "id": "3ad54381-870f-4565-b307-ec1437564b08",
   "metadata": {},
   "source": [
    "## Linearita"
   ]
  },
  {
   "cell_type": "markdown",
   "id": "e3b97ad7-0448-4c74-a077-2afbc1d156e9",
   "metadata": {},
   "source": [
    "Kovariance roste lineráně s velikostí vstupních signálů."
   ]
  },
  {
   "cell_type": "code",
   "execution_count": 9,
   "id": "3cab2048-8ad1-4308-b88e-88208e828e30",
   "metadata": {},
   "outputs": [
    {
     "data": {
      "text/plain": [
       "1.0000000000000004"
      ]
     },
     "execution_count": 9,
     "metadata": {},
     "output_type": "execute_result"
    }
   ],
   "source": [
    "covariance(2 * signal_sin, signal_sin)"
   ]
  },
  {
   "cell_type": "code",
   "execution_count": 10,
   "id": "5aa36dcd-0504-42b8-903c-ec5b7c90065e",
   "metadata": {},
   "outputs": [
    {
     "data": {
      "text/plain": [
       "2.000000000000001"
      ]
     },
     "execution_count": 10,
     "metadata": {},
     "output_type": "execute_result"
    }
   ],
   "source": [
    "covariance(2 * signal_sin, 2 * signal_sin)"
   ]
  },
  {
   "cell_type": "markdown",
   "id": "1ff2d0e0-c4bc-4a11-a592-05f4cbea3a8c",
   "metadata": {},
   "source": [
    "## Korelační funkce"
   ]
  },
  {
   "cell_type": "markdown",
   "id": "d89cfde4-0472-4a61-9526-71985d81300e",
   "metadata": {},
   "source": [
    "Nyní je potřeba získat hodnoty kovariance pro různé posuny mezi jedním a druhým signálem. Korelační funkcí je pak závislost hodnoty kovariance na hodnotě posunu mezi signály."
   ]
  },
  {
   "cell_type": "markdown",
   "id": "d9e910c5-125c-4c44-9c91-b3c789ba24a4",
   "metadata": {},
   "source": [
    "Z knihovny numpy je možno použít funkci [correlate](https://numpy.org/doc/stable/reference/generated/numpy.correlate.html)."
   ]
  },
  {
   "cell_type": "code",
   "execution_count": 11,
   "id": "444b82b7-14cb-4e4e-a6e2-9cddb9d5e193",
   "metadata": {},
   "outputs": [
    {
     "data": {
      "text/plain": [
       "[<matplotlib.lines.Line2D at 0x7f67037d1df0>]"
      ]
     },
     "execution_count": 11,
     "metadata": {},
     "output_type": "execute_result"
    },
    {
     "data": {
      "image/png": "[encoded data removed]",
      "text/plain": [
       "<Figure size 432x288 with 1 Axes>"
      ]
     },
     "metadata": {
      "needs_background": "light"
     },
     "output_type": "display_data"
    }
   ],
   "source": [
    "plt.plot(np.correlate(signal_sin, signal_sin, \"full\"))"
   ]
  },
  {
   "cell_type": "code",
   "execution_count": 12,
   "id": "9dc47ab5-6172-4dd4-9704-ff55f0239be9",
   "metadata": {},
   "outputs": [
    {
     "data": {
      "text/plain": [
       "[<matplotlib.lines.Line2D at 0x7f67037484c0>]"
      ]
     },
     "execution_count": 12,
     "metadata": {},
     "output_type": "execute_result"
    },
    {
     "data": {
      "image/png": "[encoded data removed]",
      "text/plain": [
       "<Figure size 432x288 with 1 Axes>"
      ]
     },
     "metadata": {
      "needs_background": "light"
     },
     "output_type": "display_data"
    }
   ],
   "source": [
    "plt.plot(np.correlate(signal_sin, signal_sin, \"same\"))"
   ]
  },
  {
   "cell_type": "markdown",
   "id": "975e0256-3ce0-4ba6-b4c3-af7605b683aa",
   "metadata": {},
   "source": [
    "Je ovšem nejprve nutno zjistit, jaké časové posuny se nacházejí na jakém indexu výsledného vektoru, a proč vypočítané hodnoty v grafu neodpovídají výše uvedeným kovariancím spočítaným z týchž dat."
   ]
  },
  {
   "cell_type": "markdown",
   "id": "f081ad31-0d73-4d2e-9cea-16b7c6d20c9e",
   "metadata": {},
   "source": [
    "## Závěrečná poznámka"
   ]
  },
  {
   "cell_type": "markdown",
   "id": "5a12bb05-7ab6-4548-a6e3-d32719d97c78",
   "metadata": {},
   "source": [
    "Za českou terminologii neručím a i anglická je docela zmatená."
   ]
  }
 ],
 "metadata": {
  "kernelspec": {
   "display_name": "Python 3 (ipykernel)",
   "language": "python",
   "name": "python3"
  },
  "language_info": {
   "codemirror_mode": {
    "name": "ipython",
    "version": 3
   },
   "file_extension": ".py",
   "mimetype": "text/x-python",
   "name": "python",
   "nbconvert_exporter": "python",
   "pygments_lexer": "ipython3",
   "version": "3.9.6"
  }
 },
 "nbformat": 4,
 "nbformat_minor": 5
}
